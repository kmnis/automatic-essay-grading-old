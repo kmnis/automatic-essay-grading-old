{
 "cells": [
  {
   "cell_type": "code",
   "execution_count": 1,
   "metadata": {},
   "outputs": [],
   "source": [
    "import numpy as np\n",
    "import tensorflow as tf\n",
    "import pickle"
   ]
  },
  {
   "cell_type": "code",
   "execution_count": 2,
   "metadata": {},
   "outputs": [],
   "source": [
    "with open(\"sx_train.txt\", \"rb\") as fp:\n",
    "    X_train = pickle.load(fp)\n",
    "    \n",
    "with open(\"sy_train.txt\", \"rb\") as fp:\n",
    "    y_train = pickle.load(fp)\n",
    "    \n",
    "with open(\"s_word_embedding_matrix.txt\", \"rb\") as fp:\n",
    "    word_embedding_matrix = pickle.load(fp)\n",
    "    \n",
    "with open(\"s_word_to_index.txt\", \"rb\") as fp:\n",
    "    word_to_index = pickle.load(fp)\n",
    "    \n",
    "with open(\"s_index_to_word.txt\", \"rb\") as fp:\n",
    "    index_to_word = pickle.load(fp)"
   ]
  },
  {
   "cell_type": "code",
   "execution_count": 3,
   "metadata": {},
   "outputs": [
    {
     "data": {
      "text/plain": [
       "12"
      ]
     },
     "execution_count": 3,
     "metadata": {},
     "output_type": "execute_result"
    }
   ],
   "source": [
    "len(X_train[0])"
   ]
  },
  {
   "cell_type": "code",
   "execution_count": 4,
   "metadata": {},
   "outputs": [],
   "source": [
    "def model_inputs():\n",
    "    \n",
    "    input_data = tf.placeholder(tf.int32, [None, None], name='input')\n",
    "    lr = tf.placeholder(tf.float32, name='learning_rate')\n",
    "    keep_prob = tf.placeholder(tf.float32, name='keep_prob')\n",
    "    text_length = tf.placeholder(tf.int32, (None,), name='text_length')\n",
    "\n",
    "    return input_data, lr, keep_prob, text_length"
   ]
  },
  {
   "cell_type": "code",
   "execution_count": 5,
   "metadata": {},
   "outputs": [],
   "source": [
    "def encoding_layer(rnn_size, sequence_length, num_layers, rnn_inputs, keep_prob):\n",
    "    \n",
    "    for layer in range(num_layers):\n",
    "        with tf.variable_scope('encoder_{}'.format(layer)):\n",
    "            cell_fw = tf.contrib.rnn.LSTMCell(rnn_size, initializer=tf.random_uniform_initializer(0.1, 1))\n",
    "            cell_fw = tf.contrib.rnn.DropoutWrapper(cell_fw, input_keep_prob = keep_prob)\n",
    "\n",
    "            cell_bw = tf.contrib.rnn.LSTMCell(rnn_size, initializer=tf.random_uniform_initializer(0.1, 1))\n",
    "            cell_bw = tf.contrib.rnn.DropoutWrapper(cell_bw, input_keep_prob = keep_prob)\n",
    "\n",
    "            enc_output, enc_state = tf.nn.bidirectional_dynamic_rnn(cell_fw, \n",
    "                                                                    cell_bw, \n",
    "                                                                    rnn_inputs,\n",
    "                                                                    sequence_length,\n",
    "                                                                    dtype=tf.float32)\n",
    "    enc_output = tf.concat(enc_output,2)\n",
    "    enc_output = enc_output[:,-1,:]\n",
    "    return enc_output, enc_state"
   ]
  },
  {
   "cell_type": "code",
   "execution_count": 6,
   "metadata": {},
   "outputs": [],
   "source": [
    "def seq2seq_model(input_data, keep_prob, text_length, \n",
    "                  rnn_size, num_layers):\n",
    "    \n",
    "    embeddings = word_embedding_matrix\n",
    "    \n",
    "    enc_embed_input = tf.nn.embedding_lookup(embeddings, input_data)\n",
    "    enc_output, enc_state = encoding_layer(rnn_size, text_length, num_layers, enc_embed_input, keep_prob)\n",
    "    \n",
    "    return enc_output,enc_state"
   ]
  },
  {
   "cell_type": "code",
   "execution_count": 7,
   "metadata": {},
   "outputs": [],
   "source": [
    "def pad_sentence_batch(sentence_batch):\n",
    "    max_sentence = max([len(sentence) for sentence in sentence_batch])\n",
    "    return [sentence + [word_to_index['<PAD>']] * (max_sentence - len(sentence)) for sentence in sentence_batch]"
   ]
  },
  {
   "cell_type": "code",
   "execution_count": 8,
   "metadata": {},
   "outputs": [],
   "source": [
    "def get_batches(texts):\n",
    "\n",
    "    pad_texts_batch = np.array(pad_sentence_batch(texts))\n",
    "\n",
    "    pad_texts_lengths = []\n",
    "    for text in pad_texts_batch:\n",
    "        pad_texts_lengths.append(len(text))\n",
    "\n",
    "    return pad_texts_batch, pad_texts_lengths"
   ]
  },
  {
   "cell_type": "code",
   "execution_count": 9,
   "metadata": {},
   "outputs": [],
   "source": [
    "rnn_size = 200\n",
    "num_layers = 2\n",
    "learning_rate = 0.001\n",
    "keep_probability = 0.5"
   ]
  },
  {
   "cell_type": "code",
   "execution_count": 10,
   "metadata": {},
   "outputs": [],
   "source": [
    "input_data, lr, keep_prob, text_length = model_inputs()\n",
    "\n",
    "encoding_output, encoding_stat = seq2seq_model(tf.reverse(input_data,[-1]),\n",
    "                                                          keep_prob,   \n",
    "                                                          text_length,\n",
    "                                                          rnn_size, \n",
    "                                                          num_layers, \n",
    "                                                          )\n",
    "enc_ = tf.reduce_mean(encoding_output,axis=0)"
   ]
  },
  {
   "cell_type": "code",
   "execution_count": 11,
   "metadata": {},
   "outputs": [
    {
     "data": {
      "text/plain": [
       "<tf.Tensor 'Mean:0' shape=(400,) dtype=float32>"
      ]
     },
     "execution_count": 11,
     "metadata": {},
     "output_type": "execute_result"
    }
   ],
   "source": [
    "enc_"
   ]
  },
  {
   "cell_type": "code",
   "execution_count": 12,
   "metadata": {},
   "outputs": [],
   "source": [
    "y_train = np.asarray(y_train).reshape((len(y_train),1))"
   ]
  },
  {
   "cell_type": "code",
   "execution_count": 13,
   "metadata": {},
   "outputs": [],
   "source": [
    "train = tf.placeholder(tf.float32, shape=(400,None), name='train')\n",
    "output = tf.placeholder(tf.float32, shape=(1,None), name='output')\n",
    "\n",
    "# First layer\n",
    "hid1_size = 128\n",
    "w1 = tf.Variable(tf.random_normal([hid1_size, 400], stddev=0.01), name='w1')\n",
    "b1 = tf.Variable(tf.constant(0.1, shape=(hid1_size, 1)), name='b1')\n",
    "y1 = tf.nn.dropout(tf.nn.relu(tf.add(tf.matmul(w1, tf.reshape(enc_,(400,1))), b1)), keep_prob=0.5)\n",
    "\n",
    "# Second layer\n",
    "hid2_size = 256\n",
    "w2 = tf.Variable(tf.random_normal([hid2_size, hid1_size], stddev=0.01), name='w2')\n",
    "b2 = tf.Variable(tf.constant(0.1, shape=(hid2_size, 1)), name='b2')\n",
    "y2 = tf.nn.dropout(tf.nn.relu(tf.add(tf.matmul(w2, y1), b2)), keep_prob=0.5)\n",
    "\n",
    "# Output layer\n",
    "wo = tf.Variable(tf.random_normal([1, hid2_size], stddev=0.01), name='wo')\n",
    "bo = tf.Variable(tf.random_normal([1, 1]), name='bo')\n",
    "yo = tf.add(tf.matmul(wo, y2), bo)"
   ]
  },
  {
   "cell_type": "code",
   "execution_count": 14,
   "metadata": {
    "scrolled": true
   },
   "outputs": [],
   "source": [
    "pred = tf.sigmoid(yo)\n",
    "lr = tf.placeholder(tf.float32, name='learning_rate')\n",
    "loss = tf.losses.mean_squared_error(output,pred)\n",
    "optimizer = tf.train.AdamOptimizer(learning_rate=0.01).minimize(loss)"
   ]
  },
  {
   "cell_type": "code",
   "execution_count": 22,
   "metadata": {},
   "outputs": [],
   "source": [
    "init = tf.global_variables_initializer()\n",
    "sess = tf.InteractiveSession()\n",
    "sess.run(init)"
   ]
  },
  {
   "cell_type": "code",
   "execution_count": 23,
   "metadata": {
    "scrolled": false
   },
   "outputs": [
    {
     "name": "stdout",
     "output_type": "stream",
     "text": [
      "Epoch: 0    Train Cost: nan\n",
      "Epoch: 1    Train Cost: nan\n",
      "Epoch: 2    Train Cost: nan\n",
      "Epoch: 3    Train Cost: nan\n",
      "Epoch: 4    Train Cost: nan\n",
      "Epoch: 5    Train Cost: nan\n",
      "Epoch: 6    Train Cost: nan\n",
      "Epoch: 7    Train Cost: nan\n",
      "Epoch: 8    Train Cost: nan\n",
      "Epoch: 9    Train Cost: nan\n"
     ]
    }
   ],
   "source": [
    "learning_rate = 0.0001\n",
    "for epoch in range(10):\n",
    "    avg_cost = 0.0\n",
    "\n",
    "    for i in range(2):\n",
    "        texts_batch, texts_lengths = get_batches(X_train[i])\n",
    "        _, c = sess.run([optimizer, loss], feed_dict={output: y_train[i].reshape((1,1)),\n",
    "                                                      input_data: texts_batch,\n",
    "                                                      text_length: texts_lengths,\n",
    "                                                      lr:learning_rate,\n",
    "                                                      keep_prob: keep_probability})\n",
    "        avg_cost += c\n",
    "        #avg_cost /= len(X_train[i])\n",
    "\n",
    "    print(\"Epoch: %d    Train Cost: %0.4f\"%(epoch, avg_cost))\n",
    "sess.close()"
   ]
  },
  {
   "cell_type": "code",
   "execution_count": null,
   "metadata": {},
   "outputs": [],
   "source": []
  },
  {
   "cell_type": "code",
   "execution_count": null,
   "metadata": {},
   "outputs": [],
   "source": []
  }
 ],
 "metadata": {
  "anaconda-cloud": {},
  "kernelspec": {
   "display_name": "Python 3",
   "language": "python",
   "name": "python3"
  },
  "language_info": {
   "codemirror_mode": {
    "name": "ipython",
    "version": 3
   },
   "file_extension": ".py",
   "mimetype": "text/x-python",
   "name": "python",
   "nbconvert_exporter": "python",
   "pygments_lexer": "ipython3",
   "version": "3.7.4"
  }
 },
 "nbformat": 4,
 "nbformat_minor": 1
}
